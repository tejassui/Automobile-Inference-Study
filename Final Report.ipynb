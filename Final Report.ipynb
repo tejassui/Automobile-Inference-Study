{
 "cells": [
  {
   "cell_type": "markdown",
   "id": "a531f874-46c8-47be-a7a0-936777661ece",
   "metadata": {},
   "source": [
    "# Final Report"
   ]
  },
  {
   "cell_type": "markdown",
   "id": "b3f9b483-2331-4388-a01d-98d4f44f6efb",
   "metadata": {},
   "source": [
    "## How Horsepower Varies Based on the Numbers of Cylinders in a Car Engine\n",
    " **Authors** Group 14: Sid Ahuja, Tejasvi Kathuria, Xiaoran Fan, Ci Xu"
   ]
  },
  {
   "cell_type": "markdown",
   "id": "1e2113c2-47b6-458c-b147-a9f3e99ff947",
   "metadata": {},
   "source": [
    "## Introduction"
   ]
  },
  {
   "cell_type": "markdown",
   "id": "c07108dd-999b-4c87-95f5-9bc010e1c7aa",
   "metadata": {},
   "source": [
    "There are many factors that determine the performance of a car. Previous research demonstrates that the engine efficiency is related to the volume and number of the cylinders (Emiroğlu et al., 2018). However, there are few and limited studies on the relationship between the number of cylinders and horsepower. In general, cars with different number of cylinders have different horsepower (Kellermayr et al., 2019). We are interested in the different effects on horsepower between the cars with 4- and 6-cylinder engines. Our question is: \"Do cars with 6-cylinder engines on average have higher horsepowers than cars with 4-cylinder engines?\" Since we are comparing the average horsepower we will use the sample mean (the location statistics), and the standard deviation (the scale statistics) of the horsepower to observe the spread in horsepower between the different samples."
   ]
  },
  {
   "cell_type": "markdown",
   "id": "0f264157-a524-49aa-b38d-716749988cf8",
   "metadata": {},
   "source": [
    "Based on our question, our competing hypotheses are (where μ represents the average horsepower):\n",
    "- Null Hypothesis: There is no difference in horsepower between 4- and 6-cylinder engines in cars from 1970-1982 (μ<sub>6-cyl</sub> − μ<sub>4-cyl</sub> = 0)\n",
    "- Alternative Hypothesis: 6-cylinder engines have a greater horsepower than 4-cylinder engines in cars from 1970-1982 (μ<sub>6-cyl</sub> − μ<sub>4-cyl</sub> > 0)"
   ]
  },
  {
   "cell_type": "markdown",
   "id": "73d247b6-e537-4a27-b9da-dd057b206750",
   "metadata": {},
   "source": [
    "We'll conduct our analysis with an alpha value of 0.05, such that our test is relatively not too conservative nor too liberal."
   ]
  },
  {
   "cell_type": "markdown",
   "id": "4f4337fe-54f9-483d-8362-e468b0180e1d",
   "metadata": {},
   "source": [
    "Our data set is the Auto MPG data set, which was obtained from Carnegie Mellon University's StatLib library. The 1983 American Statistical Association Exposition made use of this dataset. "
   ]
  },
  {
   "cell_type": "markdown",
   "id": "8413140d-f580-4599-b276-806c7bf17fe1",
   "metadata": {},
   "source": [
    "Attribute information:"
   ]
  },
  {
   "cell_type": "markdown",
   "id": "5d490817-f3e7-4913-89f0-0e9d21714886",
   "metadata": {},
   "source": [
    "|Variables|Attribute|\n",
    "|:---:|:---:|\n",
    "|mpg|continuous|\n",
    "|cylinders|multi-valued discrete|\n",
    "|displacement|continuous|\n",
    "|horsepower|continuous|\n",
    "|weight|continuous|\n",
    "|acceleration|continuous|\n",
    "|model year|multi-valued discrete|\n",
    "|origin|multi-valued discrete|\n",
    "|car name|string (unique for each instance)|"
   ]
  },
  {
   "cell_type": "markdown",
   "id": "03786f54-50e0-45ab-90de-1e32a3575805",
   "metadata": {},
   "source": [
    "*Table 1: Variable Attributes of Car Data*"
   ]
  },
  {
   "cell_type": "markdown",
   "id": "934a3c7f-864a-452b-975e-d7b7e5e51e86",
   "metadata": {},
   "source": [
    "## Method And Results"
   ]
  },
  {
   "cell_type": "markdown",
   "id": "078e317e-7dc2-4829-8b0b-5527b02bdfae",
   "metadata": {},
   "source": [
    "This report utilizes a large sample of 4- and 6-cylindered engine cars from 1970-1982. Using this large sample and proper statistical inference methods, we can make estimates, test the hypotheses, and come to conclusions with a high degree of reliability and credibility.\n",
    "\n",
    "However, even though we can make some preliminary calculations and estimations of certain parameters, we can not use these initial point estimates to come to any final conclusions because they just concern the sample and may or may not make accurate predictions about the population. To incorporate accuracy and precision in our report, we have to find the confidence interval to estimate the population parameter, and conduct a hypothesis test to see if we should reject or not reject the null hypothesis."
   ]
  },
  {
   "cell_type": "markdown",
   "id": "4a13017e-f9e2-4d6f-bf93-87a3a2e87b83",
   "metadata": {},
   "source": [
    "### Preliminary Results"
   ]
  },
  {
   "cell_type": "markdown",
   "id": "ee0f0820-8ed8-4cb8-9614-63e70edc1698",
   "metadata": {},
   "source": [
    "#### Loading Required Packages and Setting Seed"
   ]
  },
  {
   "cell_type": "code",
   "execution_count": 37,
   "id": "a90c8c4f-ebb9-4cee-9d76-ffd3740ff454",
   "metadata": {},
   "outputs": [],
   "source": [
    "library(tidyverse)\n",
    "library(infer)\n",
    "library(repr)\n",
    "library(dplyr)\n",
    "library(broom)"
   ]
  },
  {
   "cell_type": "code",
   "execution_count": 38,
   "id": "8cc055fb-d166-4eab-bb24-96201f40793a",
   "metadata": {},
   "outputs": [
    {
     "data": {
      "text/html": [
       "<table class=\"dataframe\">\n",
       "<caption>A data.frame: 6 × 9</caption>\n",
       "<thead>\n",
       "\t<tr><th></th><th scope=col>V1</th><th scope=col>V2</th><th scope=col>V3</th><th scope=col>V4</th><th scope=col>V5</th><th scope=col>V6</th><th scope=col>V7</th><th scope=col>V8</th><th scope=col>V9</th></tr>\n",
       "\t<tr><th></th><th scope=col>&lt;dbl&gt;</th><th scope=col>&lt;int&gt;</th><th scope=col>&lt;dbl&gt;</th><th scope=col>&lt;chr&gt;</th><th scope=col>&lt;dbl&gt;</th><th scope=col>&lt;dbl&gt;</th><th scope=col>&lt;int&gt;</th><th scope=col>&lt;int&gt;</th><th scope=col>&lt;chr&gt;</th></tr>\n",
       "</thead>\n",
       "<tbody>\n",
       "\t<tr><th scope=row>1</th><td>18</td><td>8</td><td>307</td><td>130.0</td><td>3504</td><td>12.0</td><td>70</td><td>1</td><td>chevrolet chevelle malibu</td></tr>\n",
       "\t<tr><th scope=row>2</th><td>15</td><td>8</td><td>350</td><td>165.0</td><td>3693</td><td>11.5</td><td>70</td><td>1</td><td>buick skylark 320        </td></tr>\n",
       "\t<tr><th scope=row>3</th><td>18</td><td>8</td><td>318</td><td>150.0</td><td>3436</td><td>11.0</td><td>70</td><td>1</td><td>plymouth satellite       </td></tr>\n",
       "\t<tr><th scope=row>4</th><td>16</td><td>8</td><td>304</td><td>150.0</td><td>3433</td><td>12.0</td><td>70</td><td>1</td><td>amc rebel sst            </td></tr>\n",
       "\t<tr><th scope=row>5</th><td>17</td><td>8</td><td>302</td><td>140.0</td><td>3449</td><td>10.5</td><td>70</td><td>1</td><td>ford torino              </td></tr>\n",
       "\t<tr><th scope=row>6</th><td>15</td><td>8</td><td>429</td><td>198.0</td><td>4341</td><td>10.0</td><td>70</td><td>1</td><td>ford galaxie 500         </td></tr>\n",
       "</tbody>\n",
       "</table>\n"
      ],
      "text/latex": [
       "A data.frame: 6 × 9\n",
       "\\begin{tabular}{r|lllllllll}\n",
       "  & V1 & V2 & V3 & V4 & V5 & V6 & V7 & V8 & V9\\\\\n",
       "  & <dbl> & <int> & <dbl> & <chr> & <dbl> & <dbl> & <int> & <int> & <chr>\\\\\n",
       "\\hline\n",
       "\t1 & 18 & 8 & 307 & 130.0 & 3504 & 12.0 & 70 & 1 & chevrolet chevelle malibu\\\\\n",
       "\t2 & 15 & 8 & 350 & 165.0 & 3693 & 11.5 & 70 & 1 & buick skylark 320        \\\\\n",
       "\t3 & 18 & 8 & 318 & 150.0 & 3436 & 11.0 & 70 & 1 & plymouth satellite       \\\\\n",
       "\t4 & 16 & 8 & 304 & 150.0 & 3433 & 12.0 & 70 & 1 & amc rebel sst            \\\\\n",
       "\t5 & 17 & 8 & 302 & 140.0 & 3449 & 10.5 & 70 & 1 & ford torino              \\\\\n",
       "\t6 & 15 & 8 & 429 & 198.0 & 4341 & 10.0 & 70 & 1 & ford galaxie 500         \\\\\n",
       "\\end{tabular}\n"
      ],
      "text/markdown": [
       "\n",
       "A data.frame: 6 × 9\n",
       "\n",
       "| <!--/--> | V1 &lt;dbl&gt; | V2 &lt;int&gt; | V3 &lt;dbl&gt; | V4 &lt;chr&gt; | V5 &lt;dbl&gt; | V6 &lt;dbl&gt; | V7 &lt;int&gt; | V8 &lt;int&gt; | V9 &lt;chr&gt; |\n",
       "|---|---|---|---|---|---|---|---|---|---|\n",
       "| 1 | 18 | 8 | 307 | 130.0 | 3504 | 12.0 | 70 | 1 | chevrolet chevelle malibu |\n",
       "| 2 | 15 | 8 | 350 | 165.0 | 3693 | 11.5 | 70 | 1 | buick skylark 320         |\n",
       "| 3 | 18 | 8 | 318 | 150.0 | 3436 | 11.0 | 70 | 1 | plymouth satellite        |\n",
       "| 4 | 16 | 8 | 304 | 150.0 | 3433 | 12.0 | 70 | 1 | amc rebel sst             |\n",
       "| 5 | 17 | 8 | 302 | 140.0 | 3449 | 10.5 | 70 | 1 | ford torino               |\n",
       "| 6 | 15 | 8 | 429 | 198.0 | 4341 | 10.0 | 70 | 1 | ford galaxie 500          |\n",
       "\n"
      ],
      "text/plain": [
       "  V1 V2 V3  V4    V5   V6   V7 V8 V9                       \n",
       "1 18 8  307 130.0 3504 12.0 70 1  chevrolet chevelle malibu\n",
       "2 15 8  350 165.0 3693 11.5 70 1  buick skylark 320        \n",
       "3 18 8  318 150.0 3436 11.0 70 1  plymouth satellite       \n",
       "4 16 8  304 150.0 3433 12.0 70 1  amc rebel sst            \n",
       "5 17 8  302 140.0 3449 10.5 70 1  ford torino              \n",
       "6 15 8  429 198.0 4341 10.0 70 1  ford galaxie 500         "
      ]
     },
     "metadata": {},
     "output_type": "display_data"
    }
   ],
   "source": [
    "download.file(\"https://archive.ics.uci.edu/ml/machine-learning-databases/auto-mpg/auto-mpg.data\", \n",
    "              \"auto-mpg.data\")\n",
    "\n",
    "cars <- read.table(\"auto-mpg.data\") \n",
    "head(cars)"
   ]
  },
  {
   "cell_type": "markdown",
   "id": "095cbcb8-4f61-480e-8739-e4e76637c657",
   "metadata": {},
   "source": [
    "*Table 2: Raw data loaded from the internet*"
   ]
  },
  {
   "cell_type": "markdown",
   "id": "f1007ff5-8660-43c8-af82-417efcd67c3b",
   "metadata": {},
   "source": [
    "#### Cleaning and Wrangling the Data"
   ]
  },
  {
   "cell_type": "markdown",
   "id": "21956786-460f-4a4e-9871-3b174c678baf",
   "metadata": {},
   "source": [
    "Renaming the variables and cleaning the data. The horsepower is changed into a numeric variable, and the number of cylinders is changed into a categorical variable."
   ]
  },
  {
   "cell_type": "code",
   "execution_count": 39,
   "id": "608e3457-67d0-4f8b-9849-4e39fcd29a67",
   "metadata": {},
   "outputs": [
    {
     "name": "stderr",
     "output_type": "stream",
     "text": [
      "Warning message in mask$eval_all_mutate(quo):\n",
      "“NAs introduced by coercion”\n"
     ]
    },
    {
     "data": {
      "text/html": [
       "<table class=\"dataframe\">\n",
       "<caption>A data.frame: 6 × 9</caption>\n",
       "<thead>\n",
       "\t<tr><th></th><th scope=col>mpg</th><th scope=col>cylinders</th><th scope=col>dispacement</th><th scope=col>horsepower</th><th scope=col>weight</th><th scope=col>acceleration</th><th scope=col>model</th><th scope=col>origin</th><th scope=col>name</th></tr>\n",
       "\t<tr><th></th><th scope=col>&lt;dbl&gt;</th><th scope=col>&lt;fct&gt;</th><th scope=col>&lt;dbl&gt;</th><th scope=col>&lt;dbl&gt;</th><th scope=col>&lt;dbl&gt;</th><th scope=col>&lt;dbl&gt;</th><th scope=col>&lt;int&gt;</th><th scope=col>&lt;int&gt;</th><th scope=col>&lt;chr&gt;</th></tr>\n",
       "</thead>\n",
       "<tbody>\n",
       "\t<tr><th scope=row>1</th><td>18</td><td>8</td><td>307</td><td>130</td><td>3504</td><td>12.0</td><td>70</td><td>1</td><td>chevrolet chevelle malibu</td></tr>\n",
       "\t<tr><th scope=row>2</th><td>15</td><td>8</td><td>350</td><td>165</td><td>3693</td><td>11.5</td><td>70</td><td>1</td><td>buick skylark 320        </td></tr>\n",
       "\t<tr><th scope=row>3</th><td>18</td><td>8</td><td>318</td><td>150</td><td>3436</td><td>11.0</td><td>70</td><td>1</td><td>plymouth satellite       </td></tr>\n",
       "\t<tr><th scope=row>4</th><td>16</td><td>8</td><td>304</td><td>150</td><td>3433</td><td>12.0</td><td>70</td><td>1</td><td>amc rebel sst            </td></tr>\n",
       "\t<tr><th scope=row>5</th><td>17</td><td>8</td><td>302</td><td>140</td><td>3449</td><td>10.5</td><td>70</td><td>1</td><td>ford torino              </td></tr>\n",
       "\t<tr><th scope=row>6</th><td>15</td><td>8</td><td>429</td><td>198</td><td>4341</td><td>10.0</td><td>70</td><td>1</td><td>ford galaxie 500         </td></tr>\n",
       "</tbody>\n",
       "</table>\n"
      ],
      "text/latex": [
       "A data.frame: 6 × 9\n",
       "\\begin{tabular}{r|lllllllll}\n",
       "  & mpg & cylinders & dispacement & horsepower & weight & acceleration & model & origin & name\\\\\n",
       "  & <dbl> & <fct> & <dbl> & <dbl> & <dbl> & <dbl> & <int> & <int> & <chr>\\\\\n",
       "\\hline\n",
       "\t1 & 18 & 8 & 307 & 130 & 3504 & 12.0 & 70 & 1 & chevrolet chevelle malibu\\\\\n",
       "\t2 & 15 & 8 & 350 & 165 & 3693 & 11.5 & 70 & 1 & buick skylark 320        \\\\\n",
       "\t3 & 18 & 8 & 318 & 150 & 3436 & 11.0 & 70 & 1 & plymouth satellite       \\\\\n",
       "\t4 & 16 & 8 & 304 & 150 & 3433 & 12.0 & 70 & 1 & amc rebel sst            \\\\\n",
       "\t5 & 17 & 8 & 302 & 140 & 3449 & 10.5 & 70 & 1 & ford torino              \\\\\n",
       "\t6 & 15 & 8 & 429 & 198 & 4341 & 10.0 & 70 & 1 & ford galaxie 500         \\\\\n",
       "\\end{tabular}\n"
      ],
      "text/markdown": [
       "\n",
       "A data.frame: 6 × 9\n",
       "\n",
       "| <!--/--> | mpg &lt;dbl&gt; | cylinders &lt;fct&gt; | dispacement &lt;dbl&gt; | horsepower &lt;dbl&gt; | weight &lt;dbl&gt; | acceleration &lt;dbl&gt; | model &lt;int&gt; | origin &lt;int&gt; | name &lt;chr&gt; |\n",
       "|---|---|---|---|---|---|---|---|---|---|\n",
       "| 1 | 18 | 8 | 307 | 130 | 3504 | 12.0 | 70 | 1 | chevrolet chevelle malibu |\n",
       "| 2 | 15 | 8 | 350 | 165 | 3693 | 11.5 | 70 | 1 | buick skylark 320         |\n",
       "| 3 | 18 | 8 | 318 | 150 | 3436 | 11.0 | 70 | 1 | plymouth satellite        |\n",
       "| 4 | 16 | 8 | 304 | 150 | 3433 | 12.0 | 70 | 1 | amc rebel sst             |\n",
       "| 5 | 17 | 8 | 302 | 140 | 3449 | 10.5 | 70 | 1 | ford torino               |\n",
       "| 6 | 15 | 8 | 429 | 198 | 4341 | 10.0 | 70 | 1 | ford galaxie 500          |\n",
       "\n"
      ],
      "text/plain": [
       "  mpg cylinders dispacement horsepower weight acceleration model origin\n",
       "1 18  8         307         130        3504   12.0         70    1     \n",
       "2 15  8         350         165        3693   11.5         70    1     \n",
       "3 18  8         318         150        3436   11.0         70    1     \n",
       "4 16  8         304         150        3433   12.0         70    1     \n",
       "5 17  8         302         140        3449   10.5         70    1     \n",
       "6 15  8         429         198        4341   10.0         70    1     \n",
       "  name                     \n",
       "1 chevrolet chevelle malibu\n",
       "2 buick skylark 320        \n",
       "3 plymouth satellite       \n",
       "4 amc rebel sst            \n",
       "5 ford torino              \n",
       "6 ford galaxie 500         "
      ]
     },
     "metadata": {},
     "output_type": "display_data"
    }
   ],
   "source": [
    "cars <- read.table(\"auto-mpg.data\")%>%\n",
    "    rename(mpg = V1,\n",
    "           cylinders = V2,\n",
    "           dispacement = V3,\n",
    "           horsepower = V4,\n",
    "           weight = V5,\n",
    "           acceleration = V6,\n",
    "           model = V7,\n",
    "           origin = V8,\n",
    "           name = V9) %>%\n",
    "    mutate(horsepower = as.numeric(horsepower),\n",
    "           cylinders = as.factor(cylinders))\n",
    "head(cars)"
   ]
  },
  {
   "cell_type": "markdown",
   "id": "d392e879-dfdf-4b8f-9920-e2be199faa5b",
   "metadata": {},
   "source": [
    "*Table 3: Data table with correct headings*"
   ]
  },
  {
   "cell_type": "markdown",
   "id": "c72ff4f1-46fa-4abb-819d-a65f474aab6a",
   "metadata": {},
   "source": [
    "We delete the null values in the `horsepower` column and filter for the cylinder numbers we want to analyze. We then select the columns relevant to our study."
   ]
  },
  {
   "cell_type": "code",
   "execution_count": 40,
   "id": "5f5f7d51-5a66-4a77-bfc5-898d893c8d54",
   "metadata": {},
   "outputs": [
    {
     "data": {
      "text/html": [
       "<table class=\"dataframe\">\n",
       "<caption>A data.frame: 6 × 2</caption>\n",
       "<thead>\n",
       "\t<tr><th></th><th scope=col>cylinders</th><th scope=col>horsepower</th></tr>\n",
       "\t<tr><th></th><th scope=col>&lt;fct&gt;</th><th scope=col>&lt;dbl&gt;</th></tr>\n",
       "</thead>\n",
       "<tbody>\n",
       "\t<tr><th scope=row>1</th><td>4</td><td>95</td></tr>\n",
       "\t<tr><th scope=row>2</th><td>6</td><td>95</td></tr>\n",
       "\t<tr><th scope=row>3</th><td>6</td><td>97</td></tr>\n",
       "\t<tr><th scope=row>4</th><td>6</td><td>85</td></tr>\n",
       "\t<tr><th scope=row>5</th><td>4</td><td>88</td></tr>\n",
       "\t<tr><th scope=row>6</th><td>4</td><td>46</td></tr>\n",
       "</tbody>\n",
       "</table>\n"
      ],
      "text/latex": [
       "A data.frame: 6 × 2\n",
       "\\begin{tabular}{r|ll}\n",
       "  & cylinders & horsepower\\\\\n",
       "  & <fct> & <dbl>\\\\\n",
       "\\hline\n",
       "\t1 & 4 & 95\\\\\n",
       "\t2 & 6 & 95\\\\\n",
       "\t3 & 6 & 97\\\\\n",
       "\t4 & 6 & 85\\\\\n",
       "\t5 & 4 & 88\\\\\n",
       "\t6 & 4 & 46\\\\\n",
       "\\end{tabular}\n"
      ],
      "text/markdown": [
       "\n",
       "A data.frame: 6 × 2\n",
       "\n",
       "| <!--/--> | cylinders &lt;fct&gt; | horsepower &lt;dbl&gt; |\n",
       "|---|---|---|\n",
       "| 1 | 4 | 95 |\n",
       "| 2 | 6 | 95 |\n",
       "| 3 | 6 | 97 |\n",
       "| 4 | 6 | 85 |\n",
       "| 5 | 4 | 88 |\n",
       "| 6 | 4 | 46 |\n",
       "\n"
      ],
      "text/plain": [
       "  cylinders horsepower\n",
       "1 4         95        \n",
       "2 6         95        \n",
       "3 6         97        \n",
       "4 6         85        \n",
       "5 4         88        \n",
       "6 4         46        "
      ]
     },
     "metadata": {},
     "output_type": "display_data"
    }
   ],
   "source": [
    "cars_variables <- cars %>% \n",
    "    filter(!is.na(horsepower),\n",
    "           cylinders %in% c(6,4))%>%\n",
    "    select(cylinders, horsepower)\n",
    "head(cars_variables)"
   ]
  },
  {
   "cell_type": "markdown",
   "id": "949a285c-fa06-4a83-abdc-9bd051b4cd3d",
   "metadata": {},
   "source": [
    "*Table 4: Filtered and cleaned data required to answer question*"
   ]
  },
  {
   "cell_type": "markdown",
   "id": "eb3e402c-f8bd-4896-81e2-09cb1d10b08f",
   "metadata": {},
   "source": [
    "#### Summary of Statistics"
   ]
  },
  {
   "cell_type": "markdown",
   "id": "84e301e0-a618-40c1-bddb-ba8c6a264779",
   "metadata": {},
   "source": [
    "Next, we calculate the test statistics of multiple parameters and present them in the table shown below."
   ]
  },
  {
   "cell_type": "code",
   "execution_count": 41,
   "id": "0d229d7a-ad48-4d68-a7d4-68d873b54e22",
   "metadata": {},
   "outputs": [
    {
     "data": {
      "text/html": [
       "<table class=\"dataframe\">\n",
       "<caption>A tibble: 2 × 9</caption>\n",
       "<thead>\n",
       "\t<tr><th scope=col>cylinders</th><th scope=col>size</th><th scope=col>mean</th><th scope=col>sd</th><th scope=col>minimum</th><th scope=col>lower_quartile</th><th scope=col>median</th><th scope=col>upper_quartile</th><th scope=col>max</th></tr>\n",
       "\t<tr><th scope=col>&lt;fct&gt;</th><th scope=col>&lt;int&gt;</th><th scope=col>&lt;dbl&gt;</th><th scope=col>&lt;dbl&gt;</th><th scope=col>&lt;dbl&gt;</th><th scope=col>&lt;dbl&gt;</th><th scope=col>&lt;dbl&gt;</th><th scope=col>&lt;dbl&gt;</th><th scope=col>&lt;dbl&gt;</th></tr>\n",
       "</thead>\n",
       "<tbody>\n",
       "\t<tr><td>4</td><td>199</td><td> 78.28141</td><td>14.52310</td><td>46</td><td>68.0</td><td> 78</td><td> 88</td><td>115</td></tr>\n",
       "\t<tr><td>6</td><td> 83</td><td>101.50602</td><td>14.31047</td><td>72</td><td>92.5</td><td>100</td><td>110</td><td>165</td></tr>\n",
       "</tbody>\n",
       "</table>\n"
      ],
      "text/latex": [
       "A tibble: 2 × 9\n",
       "\\begin{tabular}{lllllllll}\n",
       " cylinders & size & mean & sd & minimum & lower\\_quartile & median & upper\\_quartile & max\\\\\n",
       " <fct> & <int> & <dbl> & <dbl> & <dbl> & <dbl> & <dbl> & <dbl> & <dbl>\\\\\n",
       "\\hline\n",
       "\t 4 & 199 &  78.28141 & 14.52310 & 46 & 68.0 &  78 &  88 & 115\\\\\n",
       "\t 6 &  83 & 101.50602 & 14.31047 & 72 & 92.5 & 100 & 110 & 165\\\\\n",
       "\\end{tabular}\n"
      ],
      "text/markdown": [
       "\n",
       "A tibble: 2 × 9\n",
       "\n",
       "| cylinders &lt;fct&gt; | size &lt;int&gt; | mean &lt;dbl&gt; | sd &lt;dbl&gt; | minimum &lt;dbl&gt; | lower_quartile &lt;dbl&gt; | median &lt;dbl&gt; | upper_quartile &lt;dbl&gt; | max &lt;dbl&gt; |\n",
       "|---|---|---|---|---|---|---|---|---|\n",
       "| 4 | 199 |  78.28141 | 14.52310 | 46 | 68.0 |  78 |  88 | 115 |\n",
       "| 6 |  83 | 101.50602 | 14.31047 | 72 | 92.5 | 100 | 110 | 165 |\n",
       "\n"
      ],
      "text/plain": [
       "  cylinders size mean      sd       minimum lower_quartile median\n",
       "1 4         199   78.28141 14.52310 46      68.0            78   \n",
       "2 6          83  101.50602 14.31047 72      92.5           100   \n",
       "  upper_quartile max\n",
       "1  88            115\n",
       "2 110            165"
      ]
     },
     "metadata": {},
     "output_type": "display_data"
    }
   ],
   "source": [
    "cars_summ_hp <- cars_variables %>%\n",
    "    group_by(cylinders) %>%\n",
    "    summarize(size = n(),\n",
    "              mean = mean(horsepower),\n",
    "              sd = sd(horsepower),\n",
    "              minimum = min(horsepower),\n",
    "              lower_quartile = quantile(horsepower, 0.25),\n",
    "              median = median(horsepower),\n",
    "              upper_quartile = quantile(horsepower, 0.75),\n",
    "              max = max(horsepower))\n",
    "cars_summ_hp"
   ]
  },
  {
   "cell_type": "markdown",
   "id": "16a39e33-be94-4a68-ad93-0ad1dcfd5a12",
   "metadata": {},
   "source": [
    "*Table 5: Summary of statistics*"
   ]
  },
  {
   "cell_type": "markdown",
   "id": "70cab88b-ec45-4153-8f69-a8e9504a080c",
   "metadata": {},
   "source": [
    "#### Plotting Relavent Data"
   ]
  },
  {
   "cell_type": "code",
   "execution_count": 42,
   "id": "22639ba1-9bde-4f6f-905f-fdc9fb946746",
   "metadata": {},
   "outputs": [
    {
     "data": {
      "image/png": "[encoded data removed]",
      "text/plain": [
       "plot without title"
      ]
     },
     "metadata": {
      "image/png": {
       "height": 480,
       "width": 480
      }
     },
     "output_type": "display_data"
    }
   ],
   "source": [
    "options(repr.plot.width = 8, repr.plot.height = 8)\n",
    "\n",
    "cars_boxplot <- cars_variables %>%\n",
    "    ggplot(aes(x= cylinders, y = horsepower)) +\n",
    "    geom_boxplot()+\n",
    "    ggtitle(\"Boxplot of Horsepower for 4- and 6-cylinder cars\") +\n",
    "    theme(text = element_text(size = 18))\n",
    "\n",
    "cars_boxplot"
   ]
  },
  {
   "cell_type": "markdown",
   "id": "371a5f60-9d25-47ff-8cf9-9db2faf8aff6",
   "metadata": {},
   "source": [
    "*Figure 1: Boxplot of Horsepower for 4- and 6-cylinder cars in the sample*"
   ]
  },
  {
   "cell_type": "markdown",
   "id": "c99ada55-d2a7-4751-8b2f-71dc62692849",
   "metadata": {},
   "source": [
    "From both Table 5 and Figure 1, we can see that that the standard deviation of horsepower for 4 cylinders is similar to the standard deviation of horsepower for 6 cylinders (they have a similar spread). We can also see that the sample's average horsepower of 6 cylinder engines is greater than the average horsepower of 4 cylinder engines which suggests a difference; however, the overlap between the boxplots is of some concern and requires further testing to test whether a difference actually exists between both populations. "
   ]
  },
  {
   "cell_type": "markdown",
   "id": "fd95e36f-8d2a-46d7-9827-61eca4123f01",
   "metadata": {},
   "source": [
    "### Finding Confidence Intervals through Bootstrapping"
   ]
  },
  {
   "cell_type": "markdown",
   "id": "58c4a5e6-9403-4b5c-a292-ca746603d8ae",
   "metadata": {},
   "source": [
    "With these preliminary results, we move on to the next part of analysis by using the simulation based method of bootstrapping to find the confidence interval of our samples. We use simulation based methods rather than theory based methods because there are no assumptions being made (reduces uncertainty) and we have a large enough sample size (theory based methods are not required). We have to find the 95% confidence interval because we're doing a one-tailed test and the alpha level is at 5%."
   ]
  },
  {
   "cell_type": "markdown",
   "id": "707fec9b-4ae8-4ed4-96e6-965836bb257a",
   "metadata": {},
   "source": [
    "**4 Cylinder Cars**\n",
    "- Sample mean marked in red\n",
    "- 95% confidence interval boundaries shaded in green"
   ]
  },
  {
   "cell_type": "code",
   "execution_count": 53,
   "id": "bd6e8cd4-9364-437f-a80e-825f529d91c1",
   "metadata": {},
   "outputs": [
    {
     "data": {
      "image/png": "[encoded data removed]",
      "text/plain": [
       "plot without title"
      ]
     },
     "metadata": {
      "image/png": {
       "height": 480,
       "width": 600
      }
     },
     "output_type": "display_data"
    }
   ],
   "source": [
    "set.seed(1234)\n",
    "options(repr.plot.width = 10, repr.plot.height = 8)\n",
    "\n",
    "cars_bootstrapped1 <- cars_variables %>%\n",
    "    filter(cylinders == \"4\") %>%\n",
    "    specify(response = horsepower) %>%\n",
    "    generate(type = \"bootstrap\", reps = 1000) %>%\n",
    "    calculate(stat = \"mean\")\n",
    "\n",
    "cars_ci1 <- cars_bootstrapped1 %>%\n",
    "    get_confidence_interval(level = 0.95, type = \"percentile\")\n",
    "    \n",
    "\n",
    "cars_4cylinders_plot <- cars_bootstrapped1 %>%\n",
    "    ggplot(aes(x = stat)) +\n",
    "    geom_histogram(binwidth = 1, color = \"white\") +\n",
    "    geom_vline(xintercept = cars_summ_hp[[1,3]], color = \"red\", size = 2) +\n",
    "    xlab(\"Mean of Horsepower\") +\n",
    "    ggtitle(\"Bootstrap Distribution of 4 Cylinders Cars' Mean Horsepower\") +\n",
    "    theme(text = element_text(size = 18)) +\n",
    "    shade_confidence_interval(endpoints = cars_ci1)\n",
    "cars_4cylinders_plot"
   ]
  },
  {
   "cell_type": "markdown",
   "id": "4d807334-484a-4953-8c1e-777870950657",
   "metadata": {},
   "source": [
    "*Figure 2: Bootstrap Distribution of 4 Cylinders Cars' Mean Horsepower with 95% Confidence Interval*"
   ]
  },
  {
   "cell_type": "markdown",
   "id": "0b0659a8-4714-46d0-9e03-d7add29e2a7a",
   "metadata": {},
   "source": [
    "**6 Cylinder Cars**\n",
    "- Sample mean marked in red\n",
    "- 95% confidence interval boundaries shaded in green"
   ]
  },
  {
   "cell_type": "code",
   "execution_count": 44,
   "id": "73f69847-9fe0-48e4-a6ea-db8f9ac8d745",
   "metadata": {},
   "outputs": [
    {
     "data": {
      "image/png": "[encoded data removed]",
      "text/plain": [
       "plot without title"
      ]
     },
     "metadata": {
      "image/png": {
       "height": 480,
       "width": 600
      }
     },
     "output_type": "display_data"
    }
   ],
   "source": [
    "set.seed(1234)\n",
    "options(repr.plot.width = 10, repr.plot.height = 8)\n",
    "\n",
    "cars_bootstrapped2 <- cars_variables %>%\n",
    "    filter(cylinders == \"6\") %>%\n",
    "    specify(response = horsepower) %>%\n",
    "    generate(type = \"bootstrap\", reps = 1000) %>%\n",
    "    calculate(stat = \"mean\")\n",
    "\n",
    "cars_ci2 <- cars_bootstrapped2 %>%\n",
    "    get_confidence_interval(level = 0.95, type = \"percentile\")\n",
    "\n",
    "cars_6cylinders_plot <- cars_bootstrapped2 %>%\n",
    "    ggplot(aes(x = stat)) +\n",
    "    geom_histogram(binwidth = 1, color = \"white\") +\n",
    "    geom_vline(xintercept = cars_summ_hp[[2,3]], color = \"red\", size = 2) +\n",
    "    xlab(\"Mean of Horsepower\") +\n",
    "    ggtitle(\"Bootstrap Distribution of 6 Cylinders Cars' Mean Horsepower\") +\n",
    "    theme(text = element_text(size = 18)) +\n",
    "    shade_confidence_interval(endpoints = cars_ci2)\n",
    "\n",
    "cars_6cylinders_plot"
   ]
  },
  {
   "cell_type": "markdown",
   "id": "98f7e807-46af-4f87-b695-4377307e823b",
   "metadata": {},
   "source": [
    "*Figure 3: Bootstrap Distribution of 6 Cylinders Cars' Mean Horsepower with 95% Confidence Interval*"
   ]
  },
  {
   "cell_type": "code",
   "execution_count": 52,
   "id": "6a99452e-9605-4f25-a222-80317b3e7330",
   "metadata": {},
   "outputs": [
    {
     "data": {
      "text/html": [
       "<table class=\"dataframe\">\n",
       "<caption>A data.frame: 2 × 3</caption>\n",
       "<thead>\n",
       "\t<tr><th scope=col>cylinders</th><th scope=col>lower_ci</th><th scope=col>upper_ci</th></tr>\n",
       "\t<tr><th scope=col>&lt;dbl&gt;</th><th scope=col>&lt;dbl&gt;</th><th scope=col>&lt;dbl&gt;</th></tr>\n",
       "</thead>\n",
       "<tbody>\n",
       "\t<tr><td>4</td><td>76.26633</td><td> 80.23643</td></tr>\n",
       "\t<tr><td>6</td><td>98.32470</td><td>104.73614</td></tr>\n",
       "</tbody>\n",
       "</table>\n"
      ],
      "text/latex": [
       "A data.frame: 2 × 3\n",
       "\\begin{tabular}{lll}\n",
       " cylinders & lower\\_ci & upper\\_ci\\\\\n",
       " <dbl> & <dbl> & <dbl>\\\\\n",
       "\\hline\n",
       "\t 4 & 76.26633 &  80.23643\\\\\n",
       "\t 6 & 98.32470 & 104.73614\\\\\n",
       "\\end{tabular}\n"
      ],
      "text/markdown": [
       "\n",
       "A data.frame: 2 × 3\n",
       "\n",
       "| cylinders &lt;dbl&gt; | lower_ci &lt;dbl&gt; | upper_ci &lt;dbl&gt; |\n",
       "|---|---|---|\n",
       "| 4 | 76.26633 |  80.23643 |\n",
       "| 6 | 98.32470 | 104.73614 |\n",
       "\n"
      ],
      "text/plain": [
       "  cylinders lower_ci upper_ci \n",
       "1 4         76.26633  80.23643\n",
       "2 6         98.32470 104.73614"
      ]
     },
     "metadata": {},
     "output_type": "display_data"
    }
   ],
   "source": [
    "cylinders <- c(4,6)\n",
    "ci <- rbind(cars_ci1, cars_ci2)\n",
    "ci <- cbind(cylinders, ci)\n",
    "ci"
   ]
  },
  {
   "cell_type": "markdown",
   "id": "1f9b717e-16eb-43b6-a341-846259ef3b90",
   "metadata": {},
   "source": [
    "*Table 6: Upper and Lower Boundaries of the Confidence interval for 4- and 6-cylinder cars*"
   ]
  },
  {
   "cell_type": "markdown",
   "id": "da299e9b-3351-4498-8ff3-747f884d0af8",
   "metadata": {},
   "source": [
    "In the table above, we are 95% confident that the true mean horsepower of the population lies in between the specified boundaries. The confidence interval of the 4 cylinder bootstrap distribution is smaller than the confidence interval of the 6 cylinder bootstrap distribution, even though they had rougly the same standard deviation. This is due to the difference in sample size as with a larger sample size, the confidence interval becomes tighter with a smaller margin of error."
   ]
  },
  {
   "cell_type": "markdown",
   "id": "9e4fa540-5a47-42e6-b049-8b52f1c48276",
   "metadata": {},
   "source": [
    "### Hypothesis Testing"
   ]
  },
  {
   "cell_type": "markdown",
   "id": "f73dec29-5663-4bf9-8a38-decdef42310a",
   "metadata": {},
   "source": [
    "Finally, to answer our question, we have to use hypothesis testing and compare our observed test statistic (**difference in means**) with the null hypothesis model. We will conduct this hypothesis test using both a simulation based approach (infer package) and a theory based approach (t-test), and then we will compare our findings from both tests. We are able to use theory based approaches because our sample is in accordance with the assumptions of the Central Limiting Theorum."
   ]
  },
  {
   "cell_type": "markdown",
   "id": "09a164db-5696-4a1f-b49d-4570253ef708",
   "metadata": {},
   "source": [
    "To recall, our hypotheses are:\n",
    "- Null Hypothesis: There is no difference in horsepower between 4- and 6-cylinder engines in cars from 1970-1982 (μ<sub>6-cyl</sub> − μ<sub>4-cyl</sub> = 0)\n",
    "- Alternative Hypothesis: 6-cylinder engines have a greater horsepower than 4-cylinder engines in cars from 1970-1982 (μ<sub>6-cyl</sub> − μ<sub>4-cyl</sub> > 0)"
   ]
  },
  {
   "cell_type": "markdown",
   "id": "f436497e-e8a1-41d8-8b7d-6fe23aa8cd4b",
   "metadata": {},
   "source": [
    "#### Simulation Based Hypothesis Test"
   ]
  },
  {
   "cell_type": "markdown",
   "id": "d9a1ef7a-046c-4281-b922-8ac4a54b1bac",
   "metadata": {},
   "source": [
    "Here we use the infer package framework to calculate the p-value of our test statistic which will determine if we reject or fail to reject the null hypothesis."
   ]
  },
  {
   "cell_type": "code",
   "execution_count": 46,
   "id": "0980891f-f796-4ab0-81fb-e6e58d2458d1",
   "metadata": {},
   "outputs": [
    {
     "data": {
      "image/png": "[encoded data removed]",
      "text/plain": [
       "plot without title"
      ]
     },
     "metadata": {
      "image/png": {
       "height": 480,
       "width": 600
      }
     },
     "output_type": "display_data"
    }
   ],
   "source": [
    "set.seed(1234)\n",
    "obs_test_stat <- cars_variables %>% \n",
    "  specify(formula = horsepower ~ cylinders) %>% \n",
    "  calculate(stat = \"diff in means\", order = c(\"6\", \"4\"))\n",
    "\n",
    "diff_in_means <- cars_variables %>%\n",
    "    specify(formula = horsepower ~ cylinders) %>% \n",
    "    hypothesize(null = 'independence') %>%\n",
    "    generate(reps = 1000, type = 'permute') %>%\n",
    "    calculate(stat = \"diff in means\", order = c(\"6\", \"4\")) \n",
    "\n",
    "vis_p_value <- diff_in_means %>%\n",
    "    visualize(binwidth = 1) +\n",
    "    shade_p_value(obs_stat = obs_test_stat, direction = \"right\")+\n",
    "    xlab(\"Difference in Horsepower\")\n",
    "vis_p_value"
   ]
  },
  {
   "cell_type": "markdown",
   "id": "2aca8cc2-636a-4ddd-952c-aaf390795cbd",
   "metadata": {},
   "source": [
    "*Figure 4: Simulation Based Null Distribution and Observed Test Statistic (in red)*"
   ]
  },
  {
   "cell_type": "code",
   "execution_count": 47,
   "id": "3213f5af-e1db-4ecf-a1a2-9af1c3a930d0",
   "metadata": {},
   "outputs": [
    {
     "name": "stderr",
     "output_type": "stream",
     "text": [
      "Warning message:\n",
      "“Please be cautious in reporting a p-value of 0. This result is an approximation based on the number of `reps` chosen in the `generate()` step. See `?get_p_value()` for more information.”\n"
     ]
    },
    {
     "data": {
      "text/html": [
       "<table class=\"dataframe\">\n",
       "<caption>A tibble: 1 × 1</caption>\n",
       "<thead>\n",
       "\t<tr><th scope=col>p_value</th></tr>\n",
       "\t<tr><th scope=col>&lt;dbl&gt;</th></tr>\n",
       "</thead>\n",
       "<tbody>\n",
       "\t<tr><td>0</td></tr>\n",
       "</tbody>\n",
       "</table>\n"
      ],
      "text/latex": [
       "A tibble: 1 × 1\n",
       "\\begin{tabular}{l}\n",
       " p\\_value\\\\\n",
       " <dbl>\\\\\n",
       "\\hline\n",
       "\t 0\\\\\n",
       "\\end{tabular}\n"
      ],
      "text/markdown": [
       "\n",
       "A tibble: 1 × 1\n",
       "\n",
       "| p_value &lt;dbl&gt; |\n",
       "|---|\n",
       "| 0 |\n",
       "\n"
      ],
      "text/plain": [
       "  p_value\n",
       "1 0      "
      ]
     },
     "metadata": {},
     "output_type": "display_data"
    }
   ],
   "source": [
    "infer_p_value <- diff_in_means %>%\n",
    "    get_p_value(obs_stat = obs_test_stat, direction = \"right\")\n",
    "infer_p_value"
   ]
  },
  {
   "cell_type": "markdown",
   "id": "f1704d09-c659-4193-b89c-a54598280a62",
   "metadata": {},
   "source": [
    "*Table 7: P-value generated by simulation based hypothesis test*"
   ]
  },
  {
   "cell_type": "markdown",
   "id": "c97a1f9a-9874-401d-b0c8-cc87390e8d2d",
   "metadata": {},
   "source": [
    "The p-value generated here is an approximation based on the number of `reps` chosen in the `generate()` function. The p-value is so small that it gets rounded (based on the number of replicates) and is reported here as 0, however, we cannot have a p-value of 0 because without access to the population, we cannot report with 100% certainty that our observed test statistic never occurs. So we say that the p-value < 0.001 which is smaller than our alpha value of 0.05. This means we reject the null hypothesis and conclude that on average, 6-cylinder cars from 1970-1982 have a greater horsepower than 4-cylinder cars from 1970-1982."
   ]
  },
  {
   "cell_type": "markdown",
   "id": "018eaee6-41b9-46ca-9324-8ea90d70621f",
   "metadata": {},
   "source": [
    "#### Theory Based Hypothesis Test (using formulas)"
   ]
  },
  {
   "cell_type": "markdown",
   "id": "c0dc4f33-4346-4487-8519-881c6cc600d5",
   "metadata": {},
   "source": [
    "We start by selecting the required columns for a t-test from our summary of statistics."
   ]
  },
  {
   "cell_type": "code",
   "execution_count": 48,
   "id": "28d30e64-faf3-4a71-b7e3-7753e3645274",
   "metadata": {},
   "outputs": [
    {
     "data": {
      "text/html": [
       "<table class=\"dataframe\">\n",
       "<caption>A tibble: 2 × 4</caption>\n",
       "<thead>\n",
       "\t<tr><th scope=col>cylinders</th><th scope=col>size</th><th scope=col>mean</th><th scope=col>sd</th></tr>\n",
       "\t<tr><th scope=col>&lt;fct&gt;</th><th scope=col>&lt;int&gt;</th><th scope=col>&lt;dbl&gt;</th><th scope=col>&lt;dbl&gt;</th></tr>\n",
       "</thead>\n",
       "<tbody>\n",
       "\t<tr><td>4</td><td>199</td><td> 78.28141</td><td>14.52310</td></tr>\n",
       "\t<tr><td>6</td><td> 83</td><td>101.50602</td><td>14.31047</td></tr>\n",
       "</tbody>\n",
       "</table>\n"
      ],
      "text/latex": [
       "A tibble: 2 × 4\n",
       "\\begin{tabular}{llll}\n",
       " cylinders & size & mean & sd\\\\\n",
       " <fct> & <int> & <dbl> & <dbl>\\\\\n",
       "\\hline\n",
       "\t 4 & 199 &  78.28141 & 14.52310\\\\\n",
       "\t 6 &  83 & 101.50602 & 14.31047\\\\\n",
       "\\end{tabular}\n"
      ],
      "text/markdown": [
       "\n",
       "A tibble: 2 × 4\n",
       "\n",
       "| cylinders &lt;fct&gt; | size &lt;int&gt; | mean &lt;dbl&gt; | sd &lt;dbl&gt; |\n",
       "|---|---|---|---|\n",
       "| 4 | 199 |  78.28141 | 14.52310 |\n",
       "| 6 |  83 | 101.50602 | 14.31047 |\n",
       "\n"
      ],
      "text/plain": [
       "  cylinders size mean      sd      \n",
       "1 4         199   78.28141 14.52310\n",
       "2 6          83  101.50602 14.31047"
      ]
     },
     "metadata": {},
     "output_type": "display_data"
    }
   ],
   "source": [
    "cars_summ_hp_select <- cars_summ_hp %>%\n",
    "    select(cylinders, size, mean, sd)\n",
    "cars_summ_hp_select"
   ]
  },
  {
   "cell_type": "markdown",
   "id": "90f9e8a9-da32-4e71-a660-b114074c78aa",
   "metadata": {},
   "source": [
    "*Table 8: Summary of sample size, mean and standard deviation for both cylinder types*"
   ]
  },
  {
   "cell_type": "markdown",
   "id": "2cf0d470-9bf0-49a4-a52a-bf973da8a430",
   "metadata": {},
   "source": [
    "The two samples are independent and so we will be using the t-test for Two Independent Population Difference in Means. We require the variables listed below in order to calculate the test statistic and degrees of freedom of our t-distribution. The formulas listed below are used to calculate said values. These values will then be used to find the p-value of our test statistic which will then help us reject or fail to reject the null hypothesis."
   ]
  },
  {
   "cell_type": "markdown",
   "id": "ce671db6-53f8-4b9e-bf1e-01fa245db2f0",
   "metadata": {},
   "source": [
    "- x_bar : mean horsepower of cars with 6 cylinders\n",
    "\n",
    "- y_bar : mean horsepower of cars with 4 cylinders\n",
    "\n",
    "- sd1 : standard deviation of cars with 6 cylinders\n",
    "\n",
    "- sd2 : standard deviation of cars with 4 cylinders\n",
    "\n",
    "- n1 : sample size of cars with 6 cylinders\n",
    "\n",
    "- n2 : sample size of cars with 4 cylinders"
   ]
  },
  {
   "cell_type": "markdown",
   "id": "42e4e197-f878-45a6-a4f1-9ca95d0c2472",
   "metadata": {},
   "source": [
    "Test Statistic: \n",
    "\n",
    "$$\n",
    "T = \\frac{\\bar{x}-\\bar{y}}{\\sqrt{\\frac{s_1^2}{n_1} + \\frac{s_2^2}{n_2}} }\n",
    "$$\n",
    "\n",
    "Null model: $t$-distribution with approximately $\\nu$ degrees of freedom, where \n",
    "$$\n",
    "\\nu = \\frac{\n",
    "    \\left(\\frac{s_1^2}{n_1}+\\frac{s_2^2}{n_2}\\right)^2\n",
    "}\n",
    "{\n",
    "\\frac{s_1^4}{n_1^2(n_1-1)}+\\frac{s_2^4}{n_2^2(n_2-1)}\n",
    "}\n",
    "$$"
   ]
  },
  {
   "cell_type": "markdown",
   "id": "73eb2a7e-7d4f-4147-a13d-64198047b38b",
   "metadata": {},
   "source": [
    "We use Table 8 to get the required values."
   ]
  },
  {
   "cell_type": "code",
   "execution_count": 49,
   "id": "71bc6cc1-e725-4cf9-954f-af6f699367f9",
   "metadata": {},
   "outputs": [
    {
     "data": {
      "text/html": [
       "'Test Statistic: 12.3660409562759'"
      ],
      "text/latex": [
       "'Test Statistic: 12.3660409562759'"
      ],
      "text/markdown": [
       "'Test Statistic: 12.3660409562759'"
      ],
      "text/plain": [
       "[1] \"Test Statistic: 12.3660409562759\""
      ]
     },
     "metadata": {},
     "output_type": "display_data"
    },
    {
     "data": {
      "text/html": [
       "'Degrees of Freedom: 155.683680500782'"
      ],
      "text/latex": [
       "'Degrees of Freedom: 155.683680500782'"
      ],
      "text/markdown": [
       "'Degrees of Freedom: 155.683680500782'"
      ],
      "text/plain": [
       "[1] \"Degrees of Freedom: 155.683680500782\""
      ]
     },
     "metadata": {},
     "output_type": "display_data"
    },
    {
     "data": {
      "text/html": [
       "'P-Value: 3.33108747457776e-25'"
      ],
      "text/latex": [
       "'P-Value: 3.33108747457776e-25'"
      ],
      "text/markdown": [
       "'P-Value: 3.33108747457776e-25'"
      ],
      "text/plain": [
       "[1] \"P-Value: 3.33108747457776e-25\""
      ]
     },
     "metadata": {},
     "output_type": "display_data"
    }
   ],
   "source": [
    "x_bar1 <- cars_summ_hp_select$mean[2]\n",
    "x_bar2 <- cars_summ_hp_select$mean[1]\n",
    "n1 <- cars_summ_hp_select$size[2]\n",
    "n2 <- cars_summ_hp_select$size[1]\n",
    "sd1 <- cars_summ_hp_select$sd[2]\n",
    "sd2 <- cars_summ_hp_select$sd[1]\n",
    "test_statistic <- (x_bar1 - x_bar2)/sqrt(sd1^2/n1+sd2^2/n2)\n",
    "paste0(\"Test Statistic: \", test_statistic)\n",
    "\n",
    "df <- (sd1^2/n1 + sd2^2/n2)^2/(sd1^4/(n1^2*(n1-1)) + sd2^4/(n2^2*(n2-1)))\n",
    "paste0(\"Degrees of Freedom: \", df)\n",
    "\n",
    "p_val <- pt(test_statistic, df, lower.tail = FALSE)\n",
    "paste0(\"P-Value: \", p_val)"
   ]
  },
  {
   "cell_type": "markdown",
   "id": "beb6a79d-26c4-45b3-9456-beb9562bf000",
   "metadata": {},
   "source": [
    "By using theory based formulas and making assumptions about our data, we find that the average difference between 6-cylinder and 4-cylinder car horsepowers is 12.37 and that the null distribution follows a t distribution with 155.68 degrees of freedom. With both these values, we calculate the p-value to be 3.33 x 10^(-25) which is smaller than our alpha value of 0.05. This means we reject the null hypothesis and conclude that on average, 6-cylinder cars from 1970-1982 have a greater horsepower than 4-cylinder cars from 1970-1982."
   ]
  },
  {
   "cell_type": "markdown",
   "id": "ad34263a-1e52-4005-80f6-5aa613cd8ea6",
   "metadata": {},
   "source": [
    "#### Theory Based Hypothesis Test (using R based function)"
   ]
  },
  {
   "cell_type": "markdown",
   "id": "487e18fa-cf1d-432e-8c4c-76df609928fb",
   "metadata": {},
   "source": [
    "Rather than doing the calculations by hand in a step-by-step process, we can use the `t.test` function to generate a table containing the test statistic, degrees of freedom, and p-value."
   ]
  },
  {
   "cell_type": "code",
   "execution_count": 50,
   "id": "6de9c3be-7836-4d89-a9fd-e561bdeeb691",
   "metadata": {},
   "outputs": [
    {
     "data": {
      "text/html": [
       "<table class=\"dataframe\">\n",
       "<caption>A tibble: 1 × 10</caption>\n",
       "<thead>\n",
       "\t<tr><th scope=col>estimate</th><th scope=col>estimate1</th><th scope=col>estimate2</th><th scope=col>statistic</th><th scope=col>p.value</th><th scope=col>parameter</th><th scope=col>conf.low</th><th scope=col>conf.high</th><th scope=col>method</th><th scope=col>alternative</th></tr>\n",
       "\t<tr><th scope=col>&lt;dbl&gt;</th><th scope=col>&lt;dbl&gt;</th><th scope=col>&lt;dbl&gt;</th><th scope=col>&lt;dbl&gt;</th><th scope=col>&lt;dbl&gt;</th><th scope=col>&lt;dbl&gt;</th><th scope=col>&lt;dbl&gt;</th><th scope=col>&lt;dbl&gt;</th><th scope=col>&lt;chr&gt;</th><th scope=col>&lt;chr&gt;</th></tr>\n",
       "</thead>\n",
       "<tbody>\n",
       "\t<tr><td>23.22462</td><td>101.506</td><td>78.28141</td><td>12.36604</td><td>3.331087e-25</td><td>155.6837</td><td>20.11693</td><td>Inf</td><td>Welch Two Sample t-test</td><td>greater</td></tr>\n",
       "</tbody>\n",
       "</table>\n"
      ],
      "text/latex": [
       "A tibble: 1 × 10\n",
       "\\begin{tabular}{llllllllll}\n",
       " estimate & estimate1 & estimate2 & statistic & p.value & parameter & conf.low & conf.high & method & alternative\\\\\n",
       " <dbl> & <dbl> & <dbl> & <dbl> & <dbl> & <dbl> & <dbl> & <dbl> & <chr> & <chr>\\\\\n",
       "\\hline\n",
       "\t 23.22462 & 101.506 & 78.28141 & 12.36604 & 3.331087e-25 & 155.6837 & 20.11693 & Inf & Welch Two Sample t-test & greater\\\\\n",
       "\\end{tabular}\n"
      ],
      "text/markdown": [
       "\n",
       "A tibble: 1 × 10\n",
       "\n",
       "| estimate &lt;dbl&gt; | estimate1 &lt;dbl&gt; | estimate2 &lt;dbl&gt; | statistic &lt;dbl&gt; | p.value &lt;dbl&gt; | parameter &lt;dbl&gt; | conf.low &lt;dbl&gt; | conf.high &lt;dbl&gt; | method &lt;chr&gt; | alternative &lt;chr&gt; |\n",
       "|---|---|---|---|---|---|---|---|---|---|\n",
       "| 23.22462 | 101.506 | 78.28141 | 12.36604 | 3.331087e-25 | 155.6837 | 20.11693 | Inf | Welch Two Sample t-test | greater |\n",
       "\n"
      ],
      "text/plain": [
       "  estimate estimate1 estimate2 statistic p.value      parameter conf.low\n",
       "1 23.22462 101.506   78.28141  12.36604  3.331087e-25 155.6837  20.11693\n",
       "  conf.high method                  alternative\n",
       "1 Inf       Welch Two Sample t-test greater    "
      ]
     },
     "metadata": {},
     "output_type": "display_data"
    }
   ],
   "source": [
    "tidy(\n",
    "        t.test(x = cars_variables %>% \n",
    "               filter(cylinders == \"6\") %>% \n",
    "               pull(horsepower),\n",
    "               y = cars_variables %>% \n",
    "               filter(cylinders == \"4\") %>% \n",
    "               pull(horsepower),\n",
    "               alternative = \"greater\"))"
   ]
  },
  {
   "cell_type": "markdown",
   "id": "f29034fb-b3ed-4ec5-8730-487c5eef76d4",
   "metadata": {},
   "source": [
    "*Table 9: T-Test table*"
   ]
  },
  {
   "cell_type": "markdown",
   "id": "d166e8ee-a49f-4a8c-8b03-f68e53d891dd",
   "metadata": {},
   "source": [
    "The test statistic (`statistic`), degrees of freedom (`parameter`), and p-value (`p.value`) all have the same values as the formula based calculations above. This helps us verify our work and conclude that on average, 6-cylinder cars from 1970-1982 have a greater horsepower than 4-cylinder cars from 1970-1982 (rejecting the null hypothesis again)."
   ]
  },
  {
   "cell_type": "markdown",
   "id": "03113249-172e-442c-89a6-ace0d708efda",
   "metadata": {},
   "source": [
    "#### Comparison of Tests"
   ]
  },
  {
   "cell_type": "markdown",
   "id": "7e27a864-42c8-49b2-aef6-89afcb4f6b0c",
   "metadata": {},
   "source": [
    "Both the simulation based test and theory based test resulted in the same conclusion, where we reject the null hypothesis. The simulation based test was much more straight forward and did not make any assumptions about the data. However, the simulation based approach forced us to round the very small p-value to 0 due the number of replicates we specified in the code. This is one limitation of the simulation based test. On the other hand, the theory based approach provided us with a non-zero p-value but also relied on several assumptions and estimations regarding the data. In our case, these assumptions held true but in other tests, assumptions about the sample or test statistic may not hold true. These are the advantages and limitations of using a theory based test."
   ]
  },
  {
   "cell_type": "markdown",
   "id": "fdf37333-5dc1-45e0-982b-05c0cde09d5a",
   "metadata": {},
   "source": [
    "## Discussion"
   ]
  },
  {
   "cell_type": "markdown",
   "id": "4bab45c6-cca4-44a2-a3ed-94e0b2268f65",
   "metadata": {},
   "source": [
    "In our analysis, we found that after conducting a hypothesis test for observing the average difference in horsepower between 4- and 6-cylinder engines in cars from 1970-1982 at a 5% significance level,  6-cylinder cars from 1970-1982 have a greater horsepower than 4-cylinder cars from 1970-1982. We conducted the analysis using bootstrapping and asymptotics, and ultimately ended up with similar results. Neither of the tests were found to be more appropriate than the other since our data met the requirements for both test types.\n",
    "\n",
    "Generally, the more cylinders an engine has, the more horsepower it can generate. With 6-cylinder cars having 50% more cylinders than 4-cylinder cars we would expect them to be more powerful and have more horsepower. This can be seen formally and with more conviction in the confidence intervals computed via bootstrapping with the mean horsepower of 4-cylinder cars being somewhere between approximately 76-80 while for 6-cylinder cars the mean lying between approximately 98-104. After being able to reject the null hypothesis using the simulation and theory based hypothesis tests we can be sure that the results of the study aligned with the results that we expected to find. Additionally, returning to our initial point about the difference of 50% more cylinders in the two samples, it would be interesting to see if the horsepower also varies by 50% i.e if the 6-cylinder cars have 50% more horsepower than the 4-cylinder cars for future research."
   ]
  },
  {
   "cell_type": "markdown",
   "id": "e9600e8e-eee9-4ee4-a87c-8bf3bfc62eb3",
   "metadata": {},
   "source": [
    "## References"
   ]
  },
  {
   "cell_type": "markdown",
   "id": "0594fedc-1ac9-400f-b05e-cd17b89c9f77",
   "metadata": {},
   "source": [
    "Dua, D. and Graff, C. (2019). UCI Machine Learning Repository http://archive.ics.uci.edu/ml. Irvine, CA: University of California, School of Information and Computer Science."
   ]
  },
  {
   "cell_type": "markdown",
   "id": "c649ebcd-63c0-4b86-9dce-b1322b61b3e9",
   "metadata": {},
   "source": [
    "Emiroğlu, A. O., & Şen, M. (2018). Combustion, performance and emission characteristics of various alcohol blends in a single cylinder diesel engine. Fuel, 212, 34–40. https://doi.org/10.1016/j.fuel.2017.10.016 "
   ]
  },
  {
   "cell_type": "markdown",
   "id": "0dceb5cc-8add-4d48-b310-32b51fa31c47",
   "metadata": {},
   "source": [
    "Kellermayr, G., Schutting, E., &amp; Mitterecker, H. (2019). Turbocharging of engines with low cylinder numbers: A thermodynamic consideration. Automotive and Engine Technology, 4(3-4), 153–167. https://doi.org/10.1007/s41104-019-00048-8 "
   ]
  }
 ],
 "metadata": {
  "kernelspec": {
   "display_name": "R",
   "language": "R",
   "name": "ir"
  },
  "language_info": {
   "codemirror_mode": "r",
   "file_extension": ".r",
   "mimetype": "text/x-r-source",
   "name": "R",
   "pygments_lexer": "r",
   "version": "4.0.5"
  }
 },
 "nbformat": 4,
 "nbformat_minor": 5
}
